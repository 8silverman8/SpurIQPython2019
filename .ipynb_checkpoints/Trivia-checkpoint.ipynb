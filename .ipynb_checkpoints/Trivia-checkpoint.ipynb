{
 "cells": [
  {
   "cell_type": "markdown",
   "metadata": {},
   "source": [
    "# Trivia"
   ]
  },
  {
   "cell_type": "code",
   "execution_count": 10,
   "metadata": {},
   "outputs": [],
   "source": [
    "import sqlite3"
   ]
  },
  {
   "cell_type": "markdown",
   "metadata": {},
   "source": [
    "# Database Setup"
   ]
  },
  {
   "cell_type": "code",
   "execution_count": 11,
   "metadata": {},
   "outputs": [],
   "source": [
    "def createTable():\n",
    "    mydb = sqlite3.connect(\"TriviaGame.db\")\n",
    "    mycursor = mydb.cursor()\n",
    "    mycursor.execute(\"CREATE TABLE TriviaGame (id INTEGER PRIMARY KEY, Questions VARCHAR(255), Answers VARCHAR(255), Categories Varchar(255))\")\n",
    "    mydb.close()"
   ]
  },
  {
   "cell_type": "code",
   "execution_count": 12,
   "metadata": {},
   "outputs": [],
   "source": [
    "def fillTable():\n",
    "    mydb = sqlite3.connect(\"TriviaGame.db\")\n",
    "    mycursor = mydb.cursor()\n",
    "    sql = \"INSERT INTO TriviaGame (Questions, Answers, Categories) VALUES (?, ?, ?)\"\n",
    "    val = [\n",
    "    ('cereal', 'breakfast', 'pokemon'),\n",
    "    ('chalupa', 'Mexican food', 'pokemon'),\n",
    "    ('pasta', 'lunch', 'pokemon'),\n",
    "    ('oreo', 'snack food', 'pokemon'),\n",
    "    ('cookie', 'dessert', 'pokemon'),\n",
    "    ('cereal', 'breakfast', 'pokemon'),\n",
    "    ('chalupa', 'Mexican food', 'pokemon'),\n",
    "    ('pasta', 'lunch', 'pokemon'),\n",
    "    ('oreo', 'snack food', 'pokemon'),\n",
    "    ('cookie', 'dessert', 'pokemon'),\n",
    "    ('cereal', 'breakfast', 'sports'),\n",
    "    ('chalupa', 'Mexican food', 'sports'),\n",
    "    ('pasta', 'lunch', 'sports'),\n",
    "    ('oreo', 'snack food', 'sports'),\n",
    "    ('cookie', 'dessert', 'sports'),\n",
    "    ('cereal', 'breakfast', 'sports'),\n",
    "    ('chalupa', 'Mexican food', 'sports'),\n",
    "    ('pasta', 'lunch', 'sports'),\n",
    "    ('oreo', 'snack food', 'sports'),\n",
    "    ('cookie', 'dessert', 'sports'),\n",
    "    ('cereal', 'breakfast', 'math'),\n",
    "    ('chalupa', 'Mexican food', 'math'),\n",
    "    ('pasta', 'lunch', 'math'),\n",
    "    ('oreo', 'snack food', 'math'),\n",
    "    ('cookie', 'dessert', 'math'),\n",
    "    ('cereal', 'breakfast', 'math'),\n",
    "    ('chalupa', 'Mexican food', 'math'),\n",
    "    ('pasta', 'lunch', 'math'),\n",
    "    ('oreo', 'snack food', 'math'),\n",
    "    ('cookie', 'dessert', 'math'),\n",
    "    ]\n",
    "    mycursor.executemany(sql, val)\n",
    "    print(mycursor.rowcount)        # check how many rows entered\n",
    "    mydb.commit()\n",
    "    mydb.close()"
   ]
  },
  {
   "cell_type": "code",
   "execution_count": 13,
   "metadata": {},
   "outputs": [],
   "source": [
    "def viewTable():\n",
    "    mydb = sqlite3.connect(\"TriviaGame.db\")\n",
    "    mycursor = mydb.cursor()\n",
    "    sql = \"SELECT * FROM TriviaGame\"\n",
    "    mycursor.execute(sql)\n",
    "    tableData = mycursor.fetchall()\n",
    "    for x in tableData:\n",
    "      print(x)\n",
    "    mydb.commit()\n",
    "    mydb.close()\n",
    "    "
   ]
  },
  {
   "cell_type": "code",
   "execution_count": 14,
   "metadata": {},
   "outputs": [],
   "source": [
    "def deleteTable():\n",
    "    mydb = sqlite3.connect(\"TriviaGame.db\")\n",
    "    mycursor = mydb.cursor()\n",
    "    sql = \"DROP TABLE IF EXISTS TriviaGame\"\n",
    "    mycursor.execute(sql)\n",
    "    mydb.close()"
   ]
  },
  {
   "cell_type": "code",
   "execution_count": null,
   "metadata": {},
   "outputs": [],
   "source": [
    "deleteTable()s"
   ]
  }
 ],
 "metadata": {
  "kernelspec": {
   "display_name": "Python 3",
   "language": "python",
   "name": "python3"
  },
  "language_info": {
   "codemirror_mode": {
    "name": "ipython",
    "version": 3
   },
   "file_extension": ".py",
   "mimetype": "text/x-python",
   "name": "python",
   "nbconvert_exporter": "python",
   "pygments_lexer": "ipython3",
   "version": "3.7.3"
  }
 },
 "nbformat": 4,
 "nbformat_minor": 2
}
