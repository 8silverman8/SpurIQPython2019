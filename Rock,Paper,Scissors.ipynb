{
 "cells": [
  {
   "cell_type": "markdown",
   "metadata": {},
   "source": [
    "# Rock,Paper,Scissors"
   ]
  },
  {
   "cell_type": "code",
   "execution_count": 1,
   "metadata": {},
   "outputs": [
    {
     "name": "stdout",
     "output_type": "stream",
     "text": [
      "Your move: s\n",
      "computer:  s\n",
      "Tie\n",
      "Your score: 0\n",
      "AI score: 0\n",
      "\n",
      "\n",
      "Your move: q\n"
     ]
    }
   ],
   "source": [
    "import random\n",
    "\n",
    "moves = ['r','p','s']\n",
    "player_wins = ['pr','sp','rs']\n",
    "player_score = 0\n",
    "computer_score = 0\n",
    "\n",
    "\n",
    "while True:\n",
    "    player_move = input(\"Your move: \")\n",
    "    if player_move == 'q':\n",
    "        break\n",
    "    computer_move = random.choice(moves)\n",
    "    # print(\"You: \", player_move)\n",
    "    print(\"computer: \", computer_move)\n",
    "\n",
    "    if player_move == computer_move:\n",
    "        print(\"Tie\")\n",
    "    elif player_move + computer_move in player_wins:\n",
    "        print(\"Not too much of a sore sucker,are you?!\")\n",
    "        player_score += 1\n",
    "    else:\n",
    "        print(\"Sucker!!!!!!!!!!!!!!!!!!!!!! HARHARHARHARHARHARHARHARHAR\")\n",
    "        computer_score += 1\n",
    "    print(\"Your score:\",player_score)\n",
    "    print(\"AI score:\",computer_score)\n",
    "    print(\"\\n\")\n",
    "    \n",
    "     #if computer_score == 60\n",
    "    print(Sucker!!!!)\n",
    "        break\n",
    "        \n",
    "    if     \n",
    "   \n",
    "    "
   ]
  }
 ],
 "metadata": {
  "kernelspec": {
   "display_name": "Python 3",
   "language": "python",
   "name": "python3"
  },
  "language_info": {
   "codemirror_mode": {
    "name": "ipython",
    "version": 3
   },
   "file_extension": ".py",
   "mimetype": "text/x-python",
   "name": "python",
   "nbconvert_exporter": "python",
   "pygments_lexer": "ipython3",
   "version": "3.7.3"
  }
 },
 "nbformat": 4,
 "nbformat_minor": 2
}
