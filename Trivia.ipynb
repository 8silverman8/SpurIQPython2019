{
 "cells": [
  {
   "cell_type": "markdown",
   "metadata": {},
   "source": [
    "# Trivia"
   ]
  },
  {
   "cell_type": "code",
   "execution_count": 1,
   "metadata": {},
   "outputs": [],
   "source": [
    "import sqlite3\n",
    "import random"
   ]
  },
  {
   "cell_type": "markdown",
   "metadata": {},
   "source": [
    "# Database Setup"
   ]
  },
  {
   "cell_type": "code",
   "execution_count": 2,
   "metadata": {},
   "outputs": [],
   "source": [
    "def createTable():\n",
    "    mydb = sqlite3.connect(\"TriviaGame.db\")\n",
    "    mycursor = mydb.cursor()\n",
    "    mycursor.execute(\"CREATE TABLE TriviaGame (id INTEGER PRIMARY KEY, Questions VARCHAR(255), Answers VARCHAR(255), Categories Varchar(255))\")\n",
    "    mydb.close()"
   ]
  },
  {
   "cell_type": "code",
   "execution_count": 3,
   "metadata": {},
   "outputs": [],
   "source": [
    "def fillTable():\n",
    "    mydb = sqlite3.connect(\"TriviaGame.db\")\n",
    "    mycursor = mydb.cursor()\n",
    "    sql = \"INSERT INTO TriviaGame (Questions, Answers, Categories) VALUES (?, ?, ?)\"\n",
    "    val = [\n",
    "    ('What is the evolution of Darumaka?', 'darmanitan', 'pokemon'),\n",
    "    ('Is there a Totem Ribombee?', 'yes', 'pokemon'),\n",
    "    ('What is the de-evolution of Ribombee?', 'cutiefly', 'pokemon'),\n",
    "    ('Name 1 fire legendary pokemon that has an \"e\" in it.', 'moltres,heatran,entei', 'pokemon'),\n",
    "    ('What is the fourth pokemon ever created in the history of pokemon?', 'charmander', 'pokemon'),\n",
    "    ('In cards, is Mega Charizard X or Mega Charizard Y better?', 'mega charizard x', 'pokemon'),\n",
    "    (\"What is Mega Gengar's best Mega move?\", 'phantom gate', 'pokemon'),\n",
    "    ('Is there a totem Yungoos?', 'no', 'pokemon'),\n",
    "    ('Is Darkrai a mythical or a legendary to this time?', 'mythical', 'pokemon'),\n",
    "    ('How many evolutions does Poliwag have(including stage 2 pokemon)', '3,3 evolutions', 'pokemon'),\n",
    "    ('In soccer, when does a player get a red card?', 'After he fouls twice,After they foul twice', 'sports'),\n",
    "    ('Can a goalie score in a real soccer game?', 'yes', 'sports'),\n",
    "    ('In basketball, when does a player get a technical foul?', 'when he does not follow the rules of the game', 'sports'),\n",
    "    ('In basketball, what is it called when a player kicks the ball?', 'kick ball', 'sports'),\n",
    "    ('After a player counts to 10 Mississippi, what is it called when they stop the QB?', 'sack', 'sports'),\n",
    "    ('What does a QB say when he wants all the players to go to touchdown?', 'holla mary,hollamary,holamary', 'sports'),\n",
    "    ('In badminton, if the bird goes in the box of the sidelines when it''s a 2v2, is the bird in or out?', 'in', 'sports'),\n",
    "    ('In badminton, if you swing your racket over your head,and hit the bird all the way to the other side of the court ,what is it called?', 'A clear,clear,Clear,a clear', 'sports'),\n",
    "    ('In baseball, where does a shortstop stand?', 'between 2nd and 3rd base,between second and third base', 'sports'),\n",
    "    ('In baseball, how many people are on the field (only including fielders)', 'nine people,9 people,9,nine', 'sports'),\n",
    "    ('There is an iscoceles,an equilateral and a _________.', 'scalene', 'math'),\n",
    "    ('How many types of triangles are there?', 'three,3', 'math'),\n",
    "    ('An iscoceles has __________ equal sides.', '2,two', 'math'),\n",
    "    ('What is six factorial?', '720,seven hundred twenty,Seven hundred twenty', 'math'),\n",
    "    ('What is 4 to the power of 5?', '1024,one thousand twenty-four', 'math'),\n",
    "    ('How many sides does a decagon have?', '9,nine', 'math'),\n",
    "    ('How many sides does a heptagon have?', '7,seven', 'math'),\n",
    "    ('You have thirty stamps. You give three stamps to your friend. How many stamps does your friend have?', '3,three', 'math'),\n",
    "    ('What is 6 x 3 x 2 x 2?', '72,seventy-two', 'math'),    \n",
    "    ('If you add all the numbers on a calculater what will you get?', '45,forty-five', 'math'),\n",
    "    ]\n",
    "    mycursor.executemany(sql, val)\n",
    "    print(mycursor.rowcount)        # check how many rows entered\n",
    "    mydb.commit()\n",
    "    mydb.close()"
   ]
  },
  {
   "cell_type": "code",
   "execution_count": 4,
   "metadata": {},
   "outputs": [],
   "source": [
    "def viewTable():\n",
    "    mydb = sqlite3.connect(\"TriviaGame.db\")\n",
    "    mycursor = mydb.cursor()\n",
    "    sql = \"SELECT * FROM TriviaGame\"\n",
    "    mycursor.execute(sql)\n",
    "    tableData = mycursor.fetchall()\n",
    "    for x in tableData:\n",
    "      print(x)\n",
    "    mydb.commit()\n",
    "    mydb.close()\n",
    "    "
   ]
  },
  {
   "cell_type": "code",
   "execution_count": 5,
   "metadata": {},
   "outputs": [],
   "source": [
    "def deleteTable():\n",
    "    mydb = sqlite3.connect(\"TriviaGame.db\")\n",
    "    mycursor = mydb.cursor()\n",
    "    sql = \"DROP TABLE IF EXISTS TriviaGame\"\n",
    "    mycursor.execute(sql)\n",
    "    mydb.close()"
   ]
  },
  {
   "cell_type": "code",
   "execution_count": 6,
   "metadata": {},
   "outputs": [
    {
     "name": "stdout",
     "output_type": "stream",
     "text": [
      "30\n",
      "(1, 'What is the evolution of Darumaka?', 'darmanitan', 'pokemon')\n",
      "(2, 'Is there a Totem Ribombee?', 'yes', 'pokemon')\n",
      "(3, 'What is the de-evolution of Ribombee?', 'cutiefly', 'pokemon')\n",
      "(4, 'Name 1 fire legendary pokemon that has an \"e\" in it.', 'moltres, heatran, entei', 'pokemon')\n",
      "(5, 'What is the fourth pokemon ever created in the history of pokemon?', 'charmander', 'pokemon')\n",
      "(6, 'In cards,is Mega Charizard X or Mega Charizard Y better?', 'mega charizard x', 'pokemon')\n",
      "(7, \"What is Mega Gengar's best Mega move?\", 'phantom gate', 'pokemon')\n",
      "(8, 'Is there a totem Yungoos?', 'no', 'pokemon')\n",
      "(9, 'Is Darkrai a mythical or a legendary to this time?', 'mythical', 'pokemon')\n",
      "(10, 'How many evolutions does Poliwag have(including stage 2 pokemon)', '3,3 evolutions', 'pokemon')\n",
      "(11, 'In soccer, when does a player get a red card?', 'After he fouls twice,After they foul twice', 'sports')\n",
      "(12, 'Can a goalie score in a real soccer game?', 'yes', 'sports')\n",
      "(13, 'In basketball,when does a player get a technical foul?', 'when he does not follow the rules of the game', 'sports')\n",
      "(14, 'In basketball,what is it called when a player kicks the ball?', 'kick ball', 'sports')\n",
      "(15, 'After a player counts to 10 Mississippi, what is it called when they stop the QB?', 'sack', 'sports')\n",
      "(16, 'What does a QB say when he wants all the players to go to touchdown?', 'holla mary, hollamary, holamary', 'sports')\n",
      "(17, 'In badminton,if the bird goes in the box of the sidelines when its a 2v2, is the bird in or out?', 'in', 'sports')\n",
      "(18, 'In badminton,if you swing your racket over your head,and hit the bird all the way to the other side of the court ,what is it called?', 'A clear,clear,Clear,a clear', 'sports')\n",
      "(19, 'In baseball,where does a shortstop stand?', 'between 2nd and 3rd base,between second and third base', 'sports')\n",
      "(20, 'In baseball,how many people are on the field (only including fielders)', 'nine people,9 people ', 'sports')\n",
      "(21, 'There is an iscoceles,an equilateral and a _________.', 'scalene', 'math')\n",
      "(22, 'How many types of triangles are there?', 'three,3', 'math')\n",
      "(23, 'An iscoceles has __________ equal sides.', '2,two', 'math')\n",
      "(24, 'What is six factorial?', '720,seven hundred twenty,Seven hundred twenty', 'math')\n",
      "(25, 'What is 4 to the power of 5?', '1024,one thousand twenty-four', 'math')\n",
      "(26, 'How many sides does a decagon have?', '9,nine', 'math')\n",
      "(27, 'How many sides does a heptagon have?', '7,seven', 'math')\n",
      "(28, 'You have thirty stamps.You give three stamps to your friend.How many stamps does your friend have?', '3,three', 'math')\n",
      "(29, 'What is 6 x 3 x 2 x 2?', '72,seventy-two', 'math')\n",
      "(30, 'If you add all the numbers on a calculater what will you get?', '45,forty-five', 'math')\n"
     ]
    }
   ],
   "source": [
    "deleteTable()\n",
    "createTable()\n",
    "fillTable()\n",
    "viewTable()"
   ]
  },
  {
   "cell_type": "code",
   "execution_count": 7,
   "metadata": {},
   "outputs": [],
   "source": [
    "def getQuestions(category):\n",
    "    mydb = sqlite3.connect(\"TriviaGame.db\")\n",
    "    mycursor = mydb.cursor()\n",
    "    sql = \"SELECT * FROM TriviaGame WHERE Categories = ?\"\n",
    "    val = [category,]\n",
    "    mycursor.execute(sql,val)\n",
    "    results = mycursor.fetchall()\n",
    "    return results"
   ]
  },
  {
   "cell_type": "code",
   "execution_count": null,
   "metadata": {
    "scrolled": false
   },
   "outputs": [
    {
     "name": "stdout",
     "output_type": "stream",
     "text": [
      "Do you want to play Trivia with Pokemon, Math, or Sports? math\n",
      "OK\n",
      "Beginning math Trivia game. Please type 'quit' to exit at any time.\n",
      "What is 6 x 3 x 2 x 2? 72\n",
      "Correct!\n",
      "Your score: 1\n",
      "\n"
     ]
    }
   ],
   "source": [
    "category = input(\"Do you want to play Trivia with Pokemon, Math, or Sports? \").lower()\n",
    "print(\"OK\")\n",
    "print(\"Beginning \" + category + \" Trivia game. Please type 'quit' to exit at any time.\")\n",
    "Questions = getQuestions(category)\n",
    "numQuestions = len(Questions)\n",
    "score = 0\n",
    "while True:\n",
    "    if len(Questions) == 0:\n",
    "        print(\"That's all! Thanks for playing!\")\n",
    "        print(\"Your score for \" + category + \" was: \" + str(score) + \" out of \" + str(numQuestions))\n",
    "        break\n",
    "    selected = random.choice(Questions)\n",
    "    question = selected[1]\n",
    "    correct_answers = selected[2].split(\",\")\n",
    "    Questions.remove(selected)\n",
    "    user_answer = input(question + \" \")\n",
    "    if user_answer.lower() == 'quit':\n",
    "        print(\"Exiting game...\")\n",
    "        print(\"Your score for \" + category + \" was: \" + str(score) + \" out of \" + str(numQuestions))\n",
    "        break\n",
    "    elif user_answer.lower() in correct_answers:\n",
    "        print(\"Correct!\")\n",
    "        score += 1\n",
    "    else:\n",
    "        print(\"Incorrect!\")\n",
    "    print(\"Your score:\",score)\n",
    "    print(\"\")"
   ]
  },
  {
   "cell_type": "code",
   "execution_count": null,
   "metadata": {},
   "outputs": [],
   "source": []
  }
 ],
 "metadata": {
  "kernelspec": {
   "display_name": "Python 3",
   "language": "python",
   "name": "python3"
  },
  "language_info": {
   "codemirror_mode": {
    "name": "ipython",
    "version": 3
   },
   "file_extension": ".py",
   "mimetype": "text/x-python",
   "name": "python",
   "nbconvert_exporter": "python",
   "pygments_lexer": "ipython3",
   "version": "3.7.3"
  }
 },
 "nbformat": 4,
 "nbformat_minor": 2
}
