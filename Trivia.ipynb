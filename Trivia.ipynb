{
 "cells": [
  {
   "cell_type": "markdown",
   "metadata": {},
   "source": [
    "# Trivia"
   ]
  },
  {
   "cell_type": "code",
   "execution_count": 10,
   "metadata": {},
   "outputs": [],
   "source": [
    "import sqlite3"
   ]
  },
  {
   "cell_type": "markdown",
   "metadata": {},
   "source": [
    "# Database Setup"
   ]
  },
  {
   "cell_type": "code",
   "execution_count": 11,
   "metadata": {},
   "outputs": [],
   "source": [
    "def createTable():\n",
    "    mydb = sqlite3.connect(\"TriviaGame.db\")\n",
    "    mycursor = mydb.cursor()\n",
    "    mycursor.execute(\"CREATE TABLE TriviaGame (id INTEGER PRIMARY KEY, Questions VARCHAR(255), Answers VARCHAR(255), Categories Varchar(255))\")\n",
    "    mydb.close()"
   ]
  },
  {
   "cell_type": "code",
   "execution_count": null,
   "metadata": {},
   "outputs": [],
   "source": [
    "def fillTable():\n",
    "    mydb = sqlite3.connect(\"TriviaGame.db\")\n",
    "    mycursor = mydb.cursor()\n",
    "    sql = \"INSERT INTO TriviaGame (Questions, Answers, Categories) VALUES (?, ?, ?)\"\n",
    "    val = [\n",
    "    ('What is the evolution of Darumaka?', 'Darmanitan', 'pokemon'),\n",
    "    ('Is there a Totem Ribombee?', 'Yes', 'pokemon'),\n",
    "    ('What is the de-evolution of Ribombee?', 'Cutiefly', 'pokemon'),\n",
    "    ('Name 1 fire legendary pokemon that has an \"e\" in it.', 'Moltres, Heatran, Entei', 'pokemon'),\n",
    "    ('What is the fourth pokemon ever created in the history of pokemon?', 'Charmander', 'pokemon'),\n",
    "    ('In cards,is Mega Charizard X or Mega Charizard Y better?', 'Mega Charizard X', 'pokemon'),\n",
    "    ('What is Mega Gengar''s best Mega move?', 'Phantom Gate', 'pokemon'),\n",
    "    ('Name one color of Noivern.', 'Purple,Red,Black,Gray,Green,White,Yellow,Grey', 'pokemon'),\n",
    "    ('Is Darkrai a mythical or a legendary to this time?', 'Yes', 'pokemon'),\n",
    "    ('How many evolutions does Poliwag have(including stage 2 pokemon)', '3,3 evolutions', 'pokemon'),\n",
    "    ('In soccer, when does a player get a red card?', 'After he fouls twice,After she fouls twice', 'sports'),\n",
    "    ('Can a goalie score in a real soccer game?', 'Yes', 'sports'),\n",
    "    ('In basketball,when does a player get a technical foul?', 'When he does not follow the rules of the game', 'sports'),\n",
    "    ('In basketball,what is it called when a player kicks the ball?', 'Kick ball', 'sports'),\n",
    "    ('What is it called when a player counts to 10 Mississippi, what is it called when they stop the QB?', 'sack', 'sports'),\n",
    "    ('What does a QB say when he wants all the players to go to touchdown?', 'holla mary, hollamary, holamary', 'sports'),\n",
    "    ('In badminton,if the bird goes in the box of the sidelines when it''s a 2v2, is the bird in or out?', 'In, in, IN', 'sports'),\n",
    "    ('In badminton,if you swing your racket over your head,and hit the bird all the way to the other side of the court ,what is it called?', 'A clear,clear,Clear,a clear', 'sports'),\n",
    "    ('In baseball,where does a shortstop stand?', 'between 2nd and 3rd base,between second and third base', 'sports'),\n",
    "    ('In baseball,how many people are on the field (only including fielders)', 'nine people,9 people ', 'sports'),\n",
    "    ('There is an iscoceles,an equilateral and a _______.', 'scalene', 'math'),\n",
    "    ('How many types of triangles are there?', 'three,3', 'math'),\n",
    "    ('An iscoceles has ___ equal sides.', '2,two', 'math'),\n",
    "    ('What is six factorial?', '720,seven hundred twenty,Seven hundred twenty', 'math'),\n",
    "    ('', '', 'math'),\n",
    "    ('', '', 'math'),\n",
    "    ('', '', 'math'),\n",
    "    ('', '', 'math'),\n",
    "    ('', '', 'math'),    \n",
    "    ('', '', 'math'),\n",
    "    ]\n",
    "    mycursor.executemany(sql, val)\n",
    "    print(mycursor.rowcount)        # check how many rows entered\n",
    "    mydb.commit()\n",
    "    mydb.close()"
   ]
  },
  {
   "cell_type": "code",
   "execution_count": 13,
   "metadata": {},
   "outputs": [],
   "source": [
    "def viewTable():\n",
    "    mydb = sqlite3.connect(\"TriviaGame.db\")\n",
    "    mycursor = mydb.cursor()\n",
    "    sql = \"SELECT * FROM TriviaGame\"\n",
    "    mycursor.execute(sql)\n",
    "    tableData = mycursor.fetchall()\n",
    "    for x in tableData:\n",
    "      print(x)\n",
    "    mydb.commit()\n",
    "    mydb.close()\n",
    "    "
   ]
  },
  {
   "cell_type": "code",
   "execution_count": 14,
   "metadata": {},
   "outputs": [],
   "source": [
    "def deleteTable():\n",
    "    mydb = sqlite3.connect(\"TriviaGame.db\")\n",
    "    mycursor = mydb.cursor()\n",
    "    sql = \"DROP TABLE IF EXISTS TriviaGame\"\n",
    "    mycursor.execute(sql)\n",
    "    mydb.close()"
   ]
  },
  {
   "cell_type": "code",
   "execution_count": 16,
   "metadata": {},
   "outputs": [
    {
     "name": "stdout",
     "output_type": "stream",
     "text": [
      "30\n",
      "(1, 'cereal', 'breakfast', 'pokemon')\n",
      "(2, 'chalupa', 'Mexican food', 'pokemon')\n",
      "(3, 'pasta', 'lunch', 'pokemon')\n",
      "(4, 'oreo', 'snack food', 'pokemon')\n",
      "(5, 'cookie', 'dessert', 'pokemon')\n",
      "(6, 'cereal', 'breakfast', 'pokemon')\n",
      "(7, 'chalupa', 'Mexican food', 'pokemon')\n",
      "(8, 'pasta', 'lunch', 'pokemon')\n",
      "(9, 'oreo', 'snack food', 'pokemon')\n",
      "(10, 'cookie', 'dessert', 'pokemon')\n",
      "(11, 'cereal', 'breakfast', 'sports')\n",
      "(12, 'chalupa', 'Mexican food', 'sports')\n",
      "(13, 'pasta', 'lunch', 'sports')\n",
      "(14, 'oreo', 'snack food', 'sports')\n",
      "(15, 'cookie', 'dessert', 'sports')\n",
      "(16, 'cereal', 'breakfast', 'sports')\n",
      "(17, 'chalupa', 'Mexican food', 'sports')\n",
      "(18, 'pasta', 'lunch', 'sports')\n",
      "(19, 'oreo', 'snack food', 'sports')\n",
      "(20, 'cookie', 'dessert', 'sports')\n",
      "(21, 'cereal', 'breakfast', 'math')\n",
      "(22, 'chalupa', 'Mexican food', 'math')\n",
      "(23, 'pasta', 'lunch', 'math')\n",
      "(24, 'oreo', 'snack food', 'math')\n",
      "(25, 'cookie', 'dessert', 'math')\n",
      "(26, 'cereal', 'breakfast', 'math')\n",
      "(27, 'chalupa', 'Mexican food', 'math')\n",
      "(28, 'pasta', 'lunch', 'math')\n",
      "(29, 'oreo', 'snack food', 'math')\n",
      "(30, 'cookie', 'dessert', 'math')\n"
     ]
    }
   ],
   "source": [
    "deleteTable()\n",
    "createTable()\n",
    "fillTable()\n",
    "viewTable()"
   ]
  }
 ],
 "metadata": {
  "kernelspec": {
   "display_name": "Python 3",
   "language": "python",
   "name": "python3"
  },
  "language_info": {
   "codemirror_mode": {
    "name": "ipython",
    "version": 3
   },
   "file_extension": ".py",
   "mimetype": "text/x-python",
   "name": "python",
   "nbconvert_exporter": "python",
   "pygments_lexer": "ipython3",
   "version": "3.7.3"
  }
 },
 "nbformat": 4,
 "nbformat_minor": 2
}
